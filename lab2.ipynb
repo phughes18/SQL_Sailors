{
 "cells": [
  {
   "cell_type": "markdown",
   "metadata": {},
   "source": [
    "# Lab 2 Rumana Khan and Peter Hughes LC"
   ]
  },
  {
   "cell_type": "code",
   "execution_count": 1,
   "metadata": {},
   "outputs": [],
   "source": [
    "%load_ext sql"
   ]
  },
  {
   "cell_type": "code",
   "execution_count": 2,
   "metadata": {},
   "outputs": [
    {
     "data": {
      "text/plain": [
       "'Connected: @lab2.db3'"
      ]
     },
     "execution_count": 2,
     "metadata": {},
     "output_type": "execute_result"
    }
   ],
   "source": [
    "%sql sqlite:///lab2.db3"
   ]
  },
  {
   "cell_type": "markdown",
   "metadata": {},
   "source": [
    "We made the Sailors Table with sid as the primary key. \n",
    "We used a double for the age so we can input a decimal number for it.\n",
    "Then we just print it out to check that the table looks correct."
   ]
  },
  {
   "cell_type": "code",
   "execution_count": 3,
   "metadata": {},
   "outputs": [
    {
     "name": "stdout",
     "output_type": "stream",
     "text": [
      " * sqlite:///lab2.db3\n",
      "Done.\n",
      "Done.\n",
      "1 rows affected.\n",
      "1 rows affected.\n",
      "1 rows affected.\n"
     ]
    },
    {
     "data": {
      "text/plain": [
       "[]"
      ]
     },
     "execution_count": 3,
     "metadata": {},
     "output_type": "execute_result"
    }
   ],
   "source": [
    "%%sql drop table if exists Sailors;\n",
    "create table Sailors(\n",
    "       sid        int primary key,  -- sailor ID\n",
    "       sname        varchar,        -- name of Sailor\n",
    "       rating       int,            --number of rating\n",
    "       age          double          --age of Sailor\n",
    ");\n",
    "\n",
    "insert into Sailors values(22, 'dustin', 7, 45.0);\n",
    "insert into Sailors values(31, 'lubber', 8, 55.5);\n",
    "insert into Sailors values(58, 'rusty', 10, 35.0);"
   ]
  },
  {
   "cell_type": "code",
   "execution_count": 4,
   "metadata": {},
   "outputs": [
    {
     "name": "stdout",
     "output_type": "stream",
     "text": [
      " * sqlite:///lab2.db3\n",
      "Done.\n"
     ]
    },
    {
     "data": {
      "text/html": [
       "<table>\n",
       "    <tr>\n",
       "        <th>sid</th>\n",
       "        <th>sname</th>\n",
       "        <th>rating</th>\n",
       "        <th>age</th>\n",
       "    </tr>\n",
       "    <tr>\n",
       "        <td>22</td>\n",
       "        <td>dustin</td>\n",
       "        <td>7</td>\n",
       "        <td>45.0</td>\n",
       "    </tr>\n",
       "    <tr>\n",
       "        <td>31</td>\n",
       "        <td>lubber</td>\n",
       "        <td>8</td>\n",
       "        <td>55.5</td>\n",
       "    </tr>\n",
       "    <tr>\n",
       "        <td>58</td>\n",
       "        <td>rusty</td>\n",
       "        <td>10</td>\n",
       "        <td>35.0</td>\n",
       "    </tr>\n",
       "</table>"
      ],
      "text/plain": [
       "[(22, 'dustin', 7, 45.0), (31, 'lubber', 8, 55.5), (58, 'rusty', 10, 35.0)]"
      ]
     },
     "execution_count": 4,
     "metadata": {},
     "output_type": "execute_result"
    }
   ],
   "source": [
    "%sql select * from Sailors;"
   ]
  },
  {
   "cell_type": "markdown",
   "metadata": {},
   "source": [
    "Similar to the Sailors Table, we made the Boats table in the same manner. The primary key was Bid. \n",
    "Then again, we printed it out to make sure the table was correct."
   ]
  },
  {
   "cell_type": "code",
   "execution_count": 5,
   "metadata": {},
   "outputs": [
    {
     "name": "stdout",
     "output_type": "stream",
     "text": [
      " * sqlite:///lab2.db3\n",
      "Done.\n",
      "Done.\n",
      "1 rows affected.\n",
      "1 rows affected.\n"
     ]
    },
    {
     "data": {
      "text/plain": [
       "[]"
      ]
     },
     "execution_count": 5,
     "metadata": {},
     "output_type": "execute_result"
    }
   ],
   "source": [
    "%%sql drop table if exists Boats;\n",
    "create table Boats(\n",
    "       bid        int primary key,     -- number of boat\n",
    "       name          varchar,          -- name of boat\n",
    "       color         varchar           -- color of boat\n",
    ");\n",
    "\n",
    "insert into Boats values(101, 'interlake', 'red');\n",
    "insert into Boats values(103, 'clipper', 'green');"
   ]
  },
  {
   "cell_type": "code",
   "execution_count": 6,
   "metadata": {},
   "outputs": [
    {
     "name": "stdout",
     "output_type": "stream",
     "text": [
      " * sqlite:///lab2.db3\n",
      "Done.\n"
     ]
    },
    {
     "data": {
      "text/html": [
       "<table>\n",
       "    <tr>\n",
       "        <th>bid</th>\n",
       "        <th>name</th>\n",
       "        <th>color</th>\n",
       "    </tr>\n",
       "    <tr>\n",
       "        <td>101</td>\n",
       "        <td>interlake</td>\n",
       "        <td>red</td>\n",
       "    </tr>\n",
       "    <tr>\n",
       "        <td>103</td>\n",
       "        <td>clipper</td>\n",
       "        <td>green</td>\n",
       "    </tr>\n",
       "</table>"
      ],
      "text/plain": [
       "[(101, 'interlake', 'red'), (103, 'clipper', 'green')]"
      ]
     },
     "execution_count": 6,
     "metadata": {},
     "output_type": "execute_result"
    }
   ],
   "source": [
    "%sql select * from Boats;"
   ]
  },
  {
   "cell_type": "markdown",
   "metadata": {},
   "source": [
    "Now for the Reserves Table, things are a bit different looking because we add foreign keys to this table since it references the two previous tables. \n",
    "We make the date the primary key, since the other two are primary keys for the other tables. \n",
    "Then we print it out again."
   ]
  },
  {
   "cell_type": "code",
   "execution_count": 7,
   "metadata": {},
   "outputs": [
    {
     "name": "stdout",
     "output_type": "stream",
     "text": [
      " * sqlite:///lab2.db3\n",
      "Done.\n",
      "Done.\n",
      "Done.\n",
      "1 rows affected.\n",
      "1 rows affected.\n"
     ]
    },
    {
     "data": {
      "text/plain": [
       "[]"
      ]
     },
     "execution_count": 7,
     "metadata": {},
     "output_type": "execute_result"
    }
   ],
   "source": [
    "%%sql drop table if exists Reserves;\n",
    "pragma foreign_keys = ON;\n",
    "create table Reserves(\n",
    "       sid            int,                        -- sailor number \n",
    "       bid            int,                        -- boat number \n",
    "       day        varchar primary key,            -- day of reservation\n",
    "       foreign key (sid) references Sailors(sid)\n",
    "       foreign key (bid) references Boats(bid)\n",
    ");\n",
    "\n",
    "insert into Reserves values(22, 101, '10/10/96');\n",
    "insert into Reserves values(58, 103, '11/12/96');"
   ]
  },
  {
   "cell_type": "code",
   "execution_count": 8,
   "metadata": {},
   "outputs": [
    {
     "name": "stdout",
     "output_type": "stream",
     "text": [
      " * sqlite:///lab2.db3\n",
      "Done.\n"
     ]
    },
    {
     "data": {
      "text/html": [
       "<table>\n",
       "    <tr>\n",
       "        <th>sid</th>\n",
       "        <th>bid</th>\n",
       "        <th>day</th>\n",
       "    </tr>\n",
       "    <tr>\n",
       "        <td>22</td>\n",
       "        <td>101</td>\n",
       "        <td>10/10/96</td>\n",
       "    </tr>\n",
       "    <tr>\n",
       "        <td>58</td>\n",
       "        <td>103</td>\n",
       "        <td>11/12/96</td>\n",
       "    </tr>\n",
       "</table>"
      ],
      "text/plain": [
       "[(22, 101, '10/10/96'), (58, 103, '11/12/96')]"
      ]
     },
     "execution_count": 8,
     "metadata": {},
     "output_type": "execute_result"
    }
   ],
   "source": [
    "%sql select * from Reserves;"
   ]
  },
  {
   "cell_type": "markdown",
   "metadata": {},
   "source": [
    "For our first query, we only need the two tables: Sailors and Reserves because they have the neccessary information needed. Then we set the condition to when the bid equals to 103 and we make sure that the sids are equal to each other so that the information can be easily found."
   ]
  },
  {
   "cell_type": "code",
   "execution_count": 9,
   "metadata": {},
   "outputs": [
    {
     "name": "stdout",
     "output_type": "stream",
     "text": [
      " * sqlite:///lab2.db3\n",
      "Done.\n"
     ]
    },
    {
     "data": {
      "text/html": [
       "<table>\n",
       "    <tr>\n",
       "        <th>sname</th>\n",
       "    </tr>\n",
       "    <tr>\n",
       "        <td>rusty</td>\n",
       "    </tr>\n",
       "</table>"
      ],
      "text/plain": [
       "[('rusty',)]"
      ]
     },
     "execution_count": 9,
     "metadata": {},
     "output_type": "execute_result"
    }
   ],
   "source": [
    "%%sql \n",
    "SELECT distinct sname\n",
    "from Sailors, Reserves\n",
    "WHERE Sailors.sid = Reserves.sid\n",
    "and Reserves.bid = '103'"
   ]
  },
  {
   "cell_type": "markdown",
   "metadata": {},
   "source": [
    "For the second query, we need all three tables. This time, we have to set both the sid and bid in Reserves to their respective tables. We set the boat's color to red and select the sname. "
   ]
  },
  {
   "cell_type": "code",
   "execution_count": 10,
   "metadata": {},
   "outputs": [
    {
     "name": "stdout",
     "output_type": "stream",
     "text": [
      " * sqlite:///lab2.db3\n",
      "Done.\n"
     ]
    },
    {
     "data": {
      "text/html": [
       "<table>\n",
       "    <tr>\n",
       "        <th>sname</th>\n",
       "    </tr>\n",
       "    <tr>\n",
       "        <td>dustin</td>\n",
       "    </tr>\n",
       "</table>"
      ],
      "text/plain": [
       "[('dustin',)]"
      ]
     },
     "execution_count": 10,
     "metadata": {},
     "output_type": "execute_result"
    }
   ],
   "source": [
    "%%sql \n",
    "SELECT distinct sname\n",
    "from Sailors, Reserves, Boats\n",
    "WHERE Boats.color='red' \n",
    "and Sailors.sid = Reserves.sid\n",
    "and Reserves.bid = Boats.bid "
   ]
  },
  {
   "cell_type": "markdown",
   "metadata": {},
   "source": [
    "The third query is very similar to the second one except we have to use OR between the boat color values that we are searching for and we use the paranthesis so it doesn't affect where we set the sid and bid equal to the other sid and bid."
   ]
  },
  {
   "cell_type": "code",
   "execution_count": 11,
   "metadata": {},
   "outputs": [
    {
     "name": "stdout",
     "output_type": "stream",
     "text": [
      " * sqlite:///lab2.db3\n",
      "Done.\n"
     ]
    },
    {
     "data": {
      "text/html": [
       "<table>\n",
       "    <tr>\n",
       "        <th>sname</th>\n",
       "    </tr>\n",
       "    <tr>\n",
       "        <td>dustin</td>\n",
       "    </tr>\n",
       "    <tr>\n",
       "        <td>rusty</td>\n",
       "    </tr>\n",
       "</table>"
      ],
      "text/plain": [
       "[('dustin',), ('rusty',)]"
      ]
     },
     "execution_count": 11,
     "metadata": {},
     "output_type": "execute_result"
    }
   ],
   "source": [
    "%%sql \n",
    "SELECT distinct sname \n",
    "from Sailors, Reserves, Boats\n",
    "WHERE (Boats.color='red' or Boats.color='green')\n",
    "and Sailors.sid = Reserves.sid \n",
    "and Reserves.bid = Boats.bid\n"
   ]
  },
  {
   "cell_type": "markdown",
   "metadata": {},
   "source": [
    "The fourth query is exactly the same except we change the or to an and and take away the paranthese. This returns no value from the tables."
   ]
  },
  {
   "cell_type": "code",
   "execution_count": 12,
   "metadata": {},
   "outputs": [
    {
     "name": "stdout",
     "output_type": "stream",
     "text": [
      " * sqlite:///lab2.db3\n",
      "Done.\n"
     ]
    },
    {
     "data": {
      "text/html": [
       "<table>\n",
       "    <tr>\n",
       "        <th>sname</th>\n",
       "    </tr>\n",
       "</table>"
      ],
      "text/plain": [
       "[]"
      ]
     },
     "execution_count": 12,
     "metadata": {},
     "output_type": "execute_result"
    }
   ],
   "source": [
    "%%sql \n",
    "SELECT distinct sname \n",
    "from Sailors, Reserves, Boats\n",
    "WHERE Boats.color='red' and Boats.color='green' \n",
    "and Sailors.sid = Reserves.sid \n",
    "and Reserves.bid = Boats.bid"
   ]
  },
  {
   "cell_type": "markdown",
   "metadata": {},
   "source": [
    "Finally for the last query, we use the NOT operator to make sure green is never reserved by the sailor, but red is. That ensures that the sailor has only ever reserved the red boat."
   ]
  },
  {
   "cell_type": "code",
   "execution_count": 13,
   "metadata": {},
   "outputs": [
    {
     "name": "stdout",
     "output_type": "stream",
     "text": [
      " * sqlite:///lab2.db3\n",
      "Done.\n"
     ]
    },
    {
     "data": {
      "text/html": [
       "<table>\n",
       "    <tr>\n",
       "        <th>sname</th>\n",
       "    </tr>\n",
       "    <tr>\n",
       "        <td>dustin</td>\n",
       "    </tr>\n",
       "</table>"
      ],
      "text/plain": [
       "[('dustin',)]"
      ]
     },
     "execution_count": 13,
     "metadata": {},
     "output_type": "execute_result"
    }
   ],
   "source": [
    "%%sql \n",
    "SELECT distinct sname \n",
    "from Sailors, Reserves, Boats\n",
    "WHERE Boats.color='red' and not Boats.color='green' \n",
    "and Sailors.sid = Reserves.sid \n",
    "and Reserves.bid = Boats.bid\n"
   ]
  }
 ],
 "metadata": {
  "kernelspec": {
   "display_name": "Python 3",
   "language": "python",
   "name": "python3"
  },
  "language_info": {
   "codemirror_mode": {
    "name": "ipython",
    "version": 3
   },
   "file_extension": ".py",
   "mimetype": "text/x-python",
   "name": "python",
   "nbconvert_exporter": "python",
   "pygments_lexer": "ipython3",
   "version": "3.8.3"
  }
 },
 "nbformat": 4,
 "nbformat_minor": 4
}
